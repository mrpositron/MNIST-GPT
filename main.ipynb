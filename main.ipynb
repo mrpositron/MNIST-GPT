{
 "cells": [
  {
   "cell_type": "code",
   "execution_count": 1,
   "metadata": {},
   "outputs": [],
   "source": [
    "%load_ext autoreload\n",
    "%autoreload 2"
   ]
  },
  {
   "cell_type": "code",
   "execution_count": 2,
   "metadata": {},
   "outputs": [
    {
     "name": "stderr",
     "output_type": "stream",
     "text": [
      "/Users/mrpositron/opt/anaconda3/envs/res/lib/python3.8/site-packages/tqdm/auto.py:21: TqdmWarning: IProgress not found. Please update jupyter and ipywidgets. See https://ipywidgets.readthedocs.io/en/stable/user_install.html\n",
      "  from .autonotebook import tqdm as notebook_tqdm\n"
     ]
    },
    {
     "data": {
      "text/plain": [
       "<torch._C.Generator at 0x7f7ed03b0a30>"
      ]
     },
     "execution_count": 2,
     "metadata": {},
     "output_type": "execute_result"
    }
   ],
   "source": [
    "import torch\n",
    "from torchvision import datasets, transforms\n",
    "import torch.nn as nn\n",
    "import numpy as np\n",
    "import matplotlib.pyplot as plt\n",
    "import cv2\n",
    "\n",
    "import matplotlib.pyplot as plt\n",
    "\n",
    "from utils import get_data\n",
    "from tqdm import tqdm\n",
    "import time\n",
    "\n",
    "import random\n",
    "\n",
    "# seed everything for reproducibility\n",
    "seed = 42\n",
    "random.seed(seed)\n",
    "np.random.seed(seed)\n",
    "torch.manual_seed(seed)"
   ]
  },
  {
   "cell_type": "code",
   "execution_count": 3,
   "metadata": {},
   "outputs": [],
   "source": [
    "import os\n",
    "from openai import OpenAI\n",
    "openai_api_key = os.getenv(\"OPENAI_KEY\")\n",
    "\n",
    "client = OpenAI(api_key = openai_api_key)"
   ]
  },
  {
   "cell_type": "code",
   "execution_count": 4,
   "metadata": {},
   "outputs": [],
   "source": [
    "transform=transforms.Compose([\n",
    "    transforms.ToTensor(),\n",
    "])\n",
    "train_ds = datasets.MNIST('../data', train=True, download=True,transform=transform)\n",
    "test_ds = datasets.MNIST('../data', train=False,transform=transform)"
   ]
  },
  {
   "cell_type": "code",
   "execution_count": 5,
   "metadata": {},
   "outputs": [],
   "source": [
    "indices = [t for t in range(len(train_ds))]\n",
    "random.shuffle(indices)\n",
    "\n",
    "x = []\n",
    "for i in range(10):\n",
    "    for j in indices:\n",
    "        val = train_ds[j][1]\n",
    "        if val == i:\n",
    "            img, _, coords, coords_str = get_data(train_ds[j])\n",
    "            x.append((img, coords, val, coords_str))\n",
    "            break\n",
    "examples = \"Examples:\\n\" + \"\\n\".join([f\"({x[i][-2]}): {x[i][-1]}\" for i in range(10)])\n",
    "\n",
    "# img, coords, val, _ = x[2]\n",
    "\n",
    "# temp_img = np.zeros((28, 28))\n",
    "# for x, y in coords:\n",
    "#     temp_img[x, y] = 1\n",
    "# plt.imshow(temp_img, cmap='gray')"
   ]
  },
  {
   "cell_type": "code",
   "execution_count": null,
   "metadata": {},
   "outputs": [],
   "source": [
    "def generate_message(value, examples):\n",
    "    instruction = \"\"\"\n",
    "Given (x, y) coordinates of non-zero pixels in a 28x28 grayscale image representing a digit, classify the digit between 0 and 9. \n",
    "Input format: \"(x0,y0);(x1,y1);(x2,y2);...\" with coordinates sorted first in the x-axis and then in the y-axis. \n",
    "PLEASE RETURN ONLY the digit number in brackets, e.g., if the digit is 3, return \"(3)\".\n",
    "\"\"\"\n",
    " \n",
    "    # remove newlines and extra spaces\n",
    "    instruction = \"\".join(instruction.strip().split(\"\\n\"))\n",
    "\n",
    "    instruction += \"\\n\\n\" + examples\n",
    "    instruction += \"\\n\\nInput:\\n\"\n",
    "    instruction += value\n",
    "\n",
    "    messages = [\n",
    "        {\n",
    "            \"role\": \"user\",\n",
    "            \"content\": instruction\n",
    "        }\n",
    "    ]\n",
    "    return messages"
   ]
  },
  {
   "cell_type": "code",
   "execution_count": null,
   "metadata": {},
   "outputs": [],
   "source": [
    "sample_size = 10\n",
    "\n",
    "sample_indices = [i for i in range(len(test_ds))]\n",
    "random.shuffle(sample_indices)\n",
    "\n",
    "inputs = [[] for i in range(10)]\n",
    "for idx in sample_indices:\n",
    "    img, val, coords, coords_str = get_data(test_ds[idx])\n",
    "    if len(inputs[val]) < sample_size:\n",
    "        inputs[val].append((val, coords_str, coords))\n",
    "    if all([len(inputs[i]) == sample_size for i in range(10)]):\n",
    "        break"
   ]
  },
  {
   "cell_type": "code",
   "execution_count": null,
   "metadata": {},
   "outputs": [],
   "source": [
    "val = 9\n",
    "coords = inputs[val][0][2]\n",
    "print(f\"Digit: {inputs[val][0][0]}\")\n",
    "\n",
    "img = np.zeros((28, 28))\n",
    "for c in coords:\n",
    "    img[c[0], c[1]] = 1\n",
    "plt.imshow(img, cmap=\"gray\")"
   ]
  },
  {
   "cell_type": "code",
   "execution_count": null,
   "metadata": {},
   "outputs": [],
   "source": [
    "inputs_list = []\n",
    "for i in range(10):\n",
    "    for j in range(sample_size):\n",
    "        inputs_list.append(inputs[i][j][:2])"
   ]
  },
  {
   "cell_type": "code",
   "execution_count": null,
   "metadata": {},
   "outputs": [],
   "source": [
    "predictions = []"
   ]
  },
  {
   "cell_type": "code",
   "execution_count": null,
   "metadata": {},
   "outputs": [],
   "source": [
    "i = len(predictions)\n",
    "for val, coords_str in tqdm(inputs_list[i:]):\n",
    "    temp_message = generate_message(coords_str, examples)\n",
    "    # gpt-4-0125-preview, gpt-3.5-turbo-0125, gpt-4\n",
    "    response = client.chat.completions.create(\n",
    "        model=\"gpt-3.5-turbo-0125\",\n",
    "        messages=temp_message,\n",
    "        temperature=1.0,\n",
    "    )\n",
    "    response = response.choices[0].message.content\n",
    "    predictions.append(response)\n",
    "\n",
    "    time.sleep(0.5)\n",
    "    "
   ]
  },
  {
   "cell_type": "code",
   "execution_count": null,
   "metadata": {},
   "outputs": [],
   "source": [
    "print(len(predictions))"
   ]
  },
  {
   "cell_type": "code",
   "execution_count": null,
   "metadata": {},
   "outputs": [],
   "source": [
    "# save the predictions as .npy file\n",
    "import re\n",
    "pattern = re.compile(r'\\((\\d+)\\)')\n",
    "\n",
    "predictions_int = [int(match.group(1)) for s in predictions for match in pattern.finditer(s)]"
   ]
  },
  {
   "cell_type": "code",
   "execution_count": null,
   "metadata": {},
   "outputs": [],
   "source": [
    "y_gt = [x[0] for x in inputs_list]\n",
    "y_pred = predictions_int[:]\n",
    "\n",
    "print(y_gt[:10], y_pred[:10])"
   ]
  },
  {
   "cell_type": "code",
   "execution_count": null,
   "metadata": {},
   "outputs": [],
   "source": [
    "print(f\"Accuracy: {np.mean(np.array(y_gt) == np.array(y_pred))}\")\n",
    "# F1 score\n",
    "from sklearn.metrics import f1_score\n",
    "print(f\"F1 score: {f1_score(y_gt, y_pred, average='weighted')}\")\n",
    "\n",
    "# make a confusion matrix\n",
    "confusion_matrix = np.zeros((10, 10))\n",
    "for gt, pred in zip(y_gt, y_pred):\n",
    "    confusion_matrix[gt, pred] += 1\n",
    "\n",
    "confusion_matrix = confusion_matrix / np.sum(confusion_matrix, axis=1)\n",
    "# color the confusion matrix\n",
    "# plot with values\n",
    "fig, ax = plt.subplots()\n",
    "cax = ax.matshow(confusion_matrix, cmap='viridis')\n",
    "for (i, j), val in np.ndenumerate(confusion_matrix):\n",
    "    ax.text(j, i, f\"{int(100 * val)}\", ha='center', va='center', color='white')\n",
    "plt.xlabel('Predicted')\n",
    "plt.ylabel('Ground Truth')\n",
    "plt.title('Confusion Matrix')\n",
    "plt.show()\n"
   ]
  },
  {
   "cell_type": "code",
   "execution_count": null,
   "metadata": {},
   "outputs": [],
   "source": [
    "img, val, coords, coords_str = get_data(test_ds[sample_indices[120]])\n",
    "\n",
    "print(f\"The number is {val}\")\n",
    "img = np.zeros((28, 28))\n",
    "for i in range(len(coords)):\n",
    "    img[coords[i][0], coords[i][1]] = 1\n",
    "plt.imshow(img, cmap='gray')"
   ]
  },
  {
   "cell_type": "code",
   "execution_count": null,
   "metadata": {},
   "outputs": [],
   "source": []
  }
 ],
 "metadata": {
  "kernelspec": {
   "display_name": "res",
   "language": "python",
   "name": "python3"
  },
  "language_info": {
   "codemirror_mode": {
    "name": "ipython",
    "version": 3
   },
   "file_extension": ".py",
   "mimetype": "text/x-python",
   "name": "python",
   "nbconvert_exporter": "python",
   "pygments_lexer": "ipython3",
   "version": "3.8.16"
  }
 },
 "nbformat": 4,
 "nbformat_minor": 2
}
